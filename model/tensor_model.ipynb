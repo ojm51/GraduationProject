{
 "cells": [
  {
   "cell_type": "code",
   "execution_count": 2,
   "id": "716596c3",
   "metadata": {},
   "outputs": [],
   "source": [
    "import matplotlib.pyplot as plt\n",
    "import numpy as np\n",
    "import pandas as pd\n",
    "import seaborn as sns\n",
    "\n",
    "\n",
    "from sklearn import manifold\n",
    "from sklearn.model_selection import train_test_split\n",
    "from sklearn.model_selection import KFold\n",
    "from sklearn.model_selection import cross_val_score\n",
    "from tensorflow.keras.wrappers.scikit_learn import KerasClassifier\n",
    "from sklearn.model_selection import StratifiedKFold\n",
    "\n",
    "from tensorflow import keras\n",
    "from tensorflow.keras import layers\n",
    "\n",
    "\n",
    "%matplotlib inline"
   ]
  },
  {
   "cell_type": "code",
   "execution_count": 11,
   "id": "c5fd061b",
   "metadata": {
    "scrolled": true
   },
   "outputs": [
    {
     "data": {
      "text/html": [
       "<div>\n",
       "<style scoped>\n",
       "    .dataframe tbody tr th:only-of-type {\n",
       "        vertical-align: middle;\n",
       "    }\n",
       "\n",
       "    .dataframe tbody tr th {\n",
       "        vertical-align: top;\n",
       "    }\n",
       "\n",
       "    .dataframe thead th {\n",
       "        text-align: right;\n",
       "    }\n",
       "</style>\n",
       "<table border=\"1\" class=\"dataframe\">\n",
       "  <thead>\n",
       "    <tr style=\"text-align: right;\">\n",
       "      <th></th>\n",
       "      <th>-0.251</th>\n",
       "      <th>-0.75</th>\n",
       "      <th>0.311</th>\n",
       "      <th>0.936</th>\n",
       "      <th>-0.681</th>\n",
       "      <th>0.686</th>\n",
       "    </tr>\n",
       "  </thead>\n",
       "  <tbody>\n",
       "    <tr>\n",
       "      <th>0</th>\n",
       "      <td>-1.1300</td>\n",
       "      <td>-0.5540</td>\n",
       "      <td>0.8350</td>\n",
       "      <td>1.0500</td>\n",
       "      <td>0.4960</td>\n",
       "      <td>0.4050</td>\n",
       "    </tr>\n",
       "    <tr>\n",
       "      <th>1</th>\n",
       "      <td>-0.6810</td>\n",
       "      <td>-0.0947</td>\n",
       "      <td>0.7640</td>\n",
       "      <td>1.0200</td>\n",
       "      <td>0.4580</td>\n",
       "      <td>0.5030</td>\n",
       "    </tr>\n",
       "    <tr>\n",
       "      <th>2</th>\n",
       "      <td>-0.7740</td>\n",
       "      <td>0.2340</td>\n",
       "      <td>0.4320</td>\n",
       "      <td>0.9040</td>\n",
       "      <td>0.5920</td>\n",
       "      <td>0.7540</td>\n",
       "    </tr>\n",
       "    <tr>\n",
       "      <th>3</th>\n",
       "      <td>-0.7660</td>\n",
       "      <td>-0.1190</td>\n",
       "      <td>-0.0518</td>\n",
       "      <td>0.3720</td>\n",
       "      <td>0.5660</td>\n",
       "      <td>0.8520</td>\n",
       "    </tr>\n",
       "    <tr>\n",
       "      <th>4</th>\n",
       "      <td>-0.0641</td>\n",
       "      <td>-0.4940</td>\n",
       "      <td>0.2070</td>\n",
       "      <td>0.0263</td>\n",
       "      <td>0.4420</td>\n",
       "      <td>0.0676</td>\n",
       "    </tr>\n",
       "    <tr>\n",
       "      <th>5</th>\n",
       "      <td>0.1180</td>\n",
       "      <td>-0.9830</td>\n",
       "      <td>-0.3270</td>\n",
       "      <td>-1.1900</td>\n",
       "      <td>-0.0349</td>\n",
       "      <td>-0.3080</td>\n",
       "    </tr>\n",
       "    <tr>\n",
       "      <th>6</th>\n",
       "      <td>-1.4900</td>\n",
       "      <td>-1.1300</td>\n",
       "      <td>-0.2390</td>\n",
       "      <td>-1.6800</td>\n",
       "      <td>-1.7700</td>\n",
       "      <td>-0.1640</td>\n",
       "    </tr>\n",
       "    <tr>\n",
       "      <th>7</th>\n",
       "      <td>-1.3500</td>\n",
       "      <td>-0.9660</td>\n",
       "      <td>0.7230</td>\n",
       "      <td>-1.7100</td>\n",
       "      <td>1.2000</td>\n",
       "      <td>0.3480</td>\n",
       "    </tr>\n",
       "    <tr>\n",
       "      <th>8</th>\n",
       "      <td>-1.2100</td>\n",
       "      <td>-1.0100</td>\n",
       "      <td>0.8480</td>\n",
       "      <td>-1.3400</td>\n",
       "      <td>0.2420</td>\n",
       "      <td>-0.2340</td>\n",
       "    </tr>\n",
       "    <tr>\n",
       "      <th>9</th>\n",
       "      <td>-0.7070</td>\n",
       "      <td>-0.3030</td>\n",
       "      <td>1.3400</td>\n",
       "      <td>-0.7410</td>\n",
       "      <td>0.3820</td>\n",
       "      <td>-1.2900</td>\n",
       "    </tr>\n",
       "  </tbody>\n",
       "</table>\n",
       "</div>"
      ],
      "text/plain": [
       "   -0.251   -0.75   0.311   0.936  -0.681   0.686\n",
       "0 -1.1300 -0.5540  0.8350  1.0500  0.4960  0.4050\n",
       "1 -0.6810 -0.0947  0.7640  1.0200  0.4580  0.5030\n",
       "2 -0.7740  0.2340  0.4320  0.9040  0.5920  0.7540\n",
       "3 -0.7660 -0.1190 -0.0518  0.3720  0.5660  0.8520\n",
       "4 -0.0641 -0.4940  0.2070  0.0263  0.4420  0.0676\n",
       "5  0.1180 -0.9830 -0.3270 -1.1900 -0.0349 -0.3080\n",
       "6 -1.4900 -1.1300 -0.2390 -1.6800 -1.7700 -0.1640\n",
       "7 -1.3500 -0.9660  0.7230 -1.7100  1.2000  0.3480\n",
       "8 -1.2100 -1.0100  0.8480 -1.3400  0.2420 -0.2340\n",
       "9 -0.7070 -0.3030  1.3400 -0.7410  0.3820 -1.2900"
      ]
     },
     "execution_count": 11,
     "metadata": {},
     "output_type": "execute_result"
    }
   ],
   "source": [
    "df = pd.read_csv('Data2.csv')\n",
    "df2 = pd.read_csv('data_test.csv')\n",
    "df.head(10)"
   ]
  },
  {
   "cell_type": "code",
   "execution_count": 16,
   "id": "a0b3e5f1",
   "metadata": {},
   "outputs": [
    {
     "name": "stdout",
     "output_type": "stream",
     "text": [
      "(202999, 6)\n",
      "(150, 6)\n"
     ]
    }
   ],
   "source": [
    "y = np.array([0 for i in range(len(df))]) #정상데이터 - 0\n",
    "x = df.to_numpy()\n",
    "y2 = np.array([1 for i in range(len(df))])\n",
    "x2 = df2.to_numpy()\n",
    "print(x.shape)\n",
    "print(x2.shape)"
   ]
  },
  {
   "cell_type": "code",
   "execution_count": 17,
   "id": "adde927b",
   "metadata": {},
   "outputs": [
    {
     "name": "stdout",
     "output_type": "stream",
     "text": [
      "(6799, 40, 6)\n",
      "(3356, 40, 6)\n"
     ]
    }
   ],
   "source": [
    "x_train, x_test, y_train, y_test = train_test_split(x, y, test_size = 0.33, shuffle=False)\n",
    "x_train = x_train[:int(x_train.shape[0]/20)*20,:]\n",
    "y_train = y_train[:int(y_train.shape[0]/20)*20]\n",
    "x_train = x_train.reshape(int(x_train.shape[0]/20), 20, x_train.shape[1])\n",
    "x_test = np.concatenate([x_test, x2])\n",
    "x_test = x_test[:int(x_test.shape[0]/20)*20,:]\n",
    "x_test = x_test.reshape(int(x_test.shape[0]/20), 20, x_test.shape[1])\n",
    "\n",
    "x_train_40 = []\n",
    "x_test_40 = []\n",
    "y_test_40 = []\n",
    "\n",
    "\n",
    "#window size = 40\n",
    "#window slide by 20\n",
    "for i in range(len(x_train)-1):\n",
    "    x_train_40.append(np.concatenate([x_train[i], x_train[i+1]], 0))\n",
    "    \n",
    "for i in range(len(x_test)-1):\n",
    "    x_test_40.append(np.concatenate([x_test[i], x_test[i+1]], 0))\n",
    "    if(len(x_test) - i - 1 <= 7):\n",
    "        y_test_40.append(1)\n",
    "    else:\n",
    "        y_test_40.append(0)\n",
    "\n",
    "x_train_40 = np.array(x_train_40)\n",
    "x_test_40 = np.array(x_test_40)\n",
    "y_test_40 = np.array(y_test_40)\n",
    "\n",
    "print(x_train_40.shape)\n",
    "print(x_test_40.shape)"
   ]
  },
  {
   "cell_type": "code",
   "execution_count": 6,
   "id": "0454df74",
   "metadata": {},
   "outputs": [],
   "source": [
    "from keras.layers import Activation, Dense, LSTM, TimeDistributed\n",
    "def create_baseline():\n",
    "    model = keras.Sequential(\n",
    "    [\n",
    "        #Encoder\n",
    "        layers.LSTM(32, input_shape = (x_train_40.shape[1],x_train_40.shape[2]), \n",
    "                    activation=\"relu\", return_sequences=True),\n",
    "        layers.LSTM(64, activation=\"relu\", return_sequences=True),\n",
    "        #Decoder\n",
    "        layers.LSTM(64, activation=\"relu\", return_sequences=True),\n",
    "        layers.LSTM(32, activation=\"relu\", return_sequences=True),\n",
    "        layers.TimeDistributed(Dense(x_train_40.shape[2]))\n",
    "    ]\n",
    "    )\n",
    "\n",
    "    model.compile(loss='mean_squared_error', optimizer='adam')\n",
    "    return model"
   ]
  },
  {
   "cell_type": "code",
   "execution_count": 7,
   "id": "4503ce89",
   "metadata": {
    "scrolled": false
   },
   "outputs": [
    {
     "name": "stdout",
     "output_type": "stream",
     "text": [
      "Model: \"sequential\"\n",
      "_________________________________________________________________\n",
      " Layer (type)                Output Shape              Param #   \n",
      "=================================================================\n",
      " lstm (LSTM)                 (None, 40, 32)            4992      \n",
      "                                                                 \n",
      " lstm_1 (LSTM)               (None, 40, 64)            24832     \n",
      "                                                                 \n",
      " lstm_2 (LSTM)               (None, 40, 64)            33024     \n",
      "                                                                 \n",
      " lstm_3 (LSTM)               (None, 40, 32)            12416     \n",
      "                                                                 \n",
      " time_distributed (TimeDistr  (None, 40, 6)            198       \n",
      " ibuted)                                                         \n",
      "                                                                 \n",
      "=================================================================\n",
      "Total params: 75,462\n",
      "Trainable params: 75,462\n",
      "Non-trainable params: 0\n",
      "_________________________________________________________________\n"
     ]
    }
   ],
   "source": [
    "model = create_baseline()\n",
    "model.summary()"
   ]
  },
  {
   "cell_type": "code",
   "execution_count": 8,
   "id": "92789dfe",
   "metadata": {
    "scrolled": true
   },
   "outputs": [
    {
     "name": "stdout",
     "output_type": "stream",
     "text": [
      "Epoch 1/30\n",
      "425/425 [==============================] - 18s 37ms/step - loss: 0.6808 - val_loss: 0.4987\n",
      "Epoch 2/30\n",
      "425/425 [==============================] - 19s 45ms/step - loss: 0.1908 - val_loss: 0.1131\n",
      "Epoch 3/30\n",
      "425/425 [==============================] - 21s 49ms/step - loss: 0.0403 - val_loss: 0.0297\n",
      "Epoch 4/30\n",
      "425/425 [==============================] - 21s 49ms/step - loss: 0.0155 - val_loss: 0.0151\n",
      "Epoch 5/30\n",
      "425/425 [==============================] - 19s 45ms/step - loss: 0.0085 - val_loss: 0.0094\n",
      "Epoch 6/30\n",
      "425/425 [==============================] - 18s 41ms/step - loss: 0.0056 - val_loss: 0.0062\n",
      "Epoch 7/30\n",
      "425/425 [==============================] - 18s 42ms/step - loss: 0.0041 - val_loss: 0.0047\n",
      "Epoch 8/30\n",
      "425/425 [==============================] - 18s 42ms/step - loss: 0.0031 - val_loss: 0.0036\n",
      "Epoch 9/30\n",
      "425/425 [==============================] - 18s 42ms/step - loss: 0.0026 - val_loss: 0.0033\n",
      "Epoch 10/30\n",
      "425/425 [==============================] - 18s 42ms/step - loss: 0.0022 - val_loss: 0.0023\n",
      "Epoch 11/30\n",
      "425/425 [==============================] - 17s 41ms/step - loss: 0.0019 - val_loss: 0.0027\n",
      "Epoch 12/30\n",
      "425/425 [==============================] - 18s 42ms/step - loss: 0.0017 - val_loss: 0.0018\n",
      "Epoch 13/30\n",
      "425/425 [==============================] - 18s 42ms/step - loss: 0.0015 - val_loss: 0.0019\n",
      "Epoch 14/30\n",
      "425/425 [==============================] - 17s 41ms/step - loss: 0.0014 - val_loss: 0.0017\n",
      "Epoch 15/30\n",
      "425/425 [==============================] - 18s 41ms/step - loss: 0.0013 - val_loss: 0.0012\n",
      "Epoch 16/30\n",
      "425/425 [==============================] - 18s 43ms/step - loss: 0.0012 - val_loss: 0.0012\n",
      "Epoch 17/30\n",
      "425/425 [==============================] - 18s 42ms/step - loss: 0.0011 - val_loss: 0.0014\n",
      "Epoch 18/30\n",
      "425/425 [==============================] - 17s 41ms/step - loss: 0.0010 - val_loss: 0.0010\n",
      "Epoch 19/30\n",
      "425/425 [==============================] - 15s 36ms/step - loss: 9.5122e-04 - val_loss: 0.0017\n",
      "Epoch 20/30\n",
      "425/425 [==============================] - 16s 38ms/step - loss: 9.0358e-04 - val_loss: 0.0014\n",
      "Epoch 21/30\n",
      "425/425 [==============================] - 16s 38ms/step - loss: 8.5317e-04 - val_loss: 8.0177e-04\n",
      "Epoch 22/30\n",
      "425/425 [==============================] - 16s 37ms/step - loss: 8.0704e-04 - val_loss: 0.0021\n",
      "Epoch 23/30\n",
      "425/425 [==============================] - 15s 36ms/step - loss: 7.7002e-04 - val_loss: 0.0010\n",
      "Epoch 24/30\n",
      "425/425 [==============================] - 15s 36ms/step - loss: 7.4259e-04 - val_loss: 7.9266e-04\n",
      "Epoch 25/30\n",
      "425/425 [==============================] - 16s 37ms/step - loss: 7.1812e-04 - val_loss: 9.5045e-04\n",
      "Epoch 26/30\n",
      "425/425 [==============================] - 15s 36ms/step - loss: 6.7233e-04 - val_loss: 0.0012\n",
      "Epoch 27/30\n",
      "425/425 [==============================] - 16s 37ms/step - loss: 6.3007e-04 - val_loss: 6.4083e-04\n",
      "Epoch 28/30\n",
      "425/425 [==============================] - 15s 36ms/step - loss: 6.1194e-04 - val_loss: 0.0014\n",
      "Epoch 29/30\n",
      "425/425 [==============================] - 16s 37ms/step - loss: 5.9243e-04 - val_loss: 5.8917e-04\n",
      "Epoch 30/30\n",
      "425/425 [==============================] - 16s 37ms/step - loss: 5.6805e-04 - val_loss: 8.4365e-04\n"
     ]
    }
   ],
   "source": [
    "from keras.callbacks import EarlyStopping\n",
    "\n",
    "callbacks = [EarlyStopping(monitor='val_loss', patience=7)]\n",
    "\n",
    "history = model.fit(x_train_40, x_train_40, batch_size=16, epochs=30, \n",
    "                    callbacks=callbacks, validation_data=(x_test_40, x_test_40))\n",
    "\n",
    "val_loss = history.history['val_loss']\n",
    "loss = history.history['loss']"
   ]
  },
  {
   "cell_type": "code",
   "execution_count": 9,
   "id": "c487a9fc",
   "metadata": {},
   "outputs": [
    {
     "data": {
      "image/png": "[encoded data removed]",
      "text/plain": [
       "<Figure size 1120x480 with 1 Axes>"
      ]
     },
     "metadata": {
      "needs_background": "light"
     },
     "output_type": "display_data"
    }
   ],
   "source": [
    "import matplotlib.pyplot as plt\n",
    "import matplotlib\n",
    "\n",
    "fig, ax = plt.subplots(figsize=(14,6), dpi=80)\n",
    "ax.plot(loss, 'b', label='Train', linewidth=2)\n",
    "ax.plot(val_loss, 'r', label=\"Validation\", linewidth=2)\n",
    "ax.set_ylabel('Loss')\n",
    "ax.set_xlabel('Epoch')\n",
    "ax.legend(loc='upper right')\n",
    "plt.show()"
   ]
  },
  {
   "cell_type": "code",
   "execution_count": 20,
   "id": "723cfa81",
   "metadata": {},
   "outputs": [
    {
     "name": "stdout",
     "output_type": "stream",
     "text": [
      "Threshold 1 :  8.881105017598676\n",
      "Threshold 2 :  4.359409934044948\n",
      "Threshold 3 :  1.816310349586054\n",
      "Threshold 4 :  2.990228150160638\n",
      "Threshold 5 :  2.420736065096308\n",
      "Threshold 6 :  4.574086348390363\n"
     ]
    }
   ],
   "source": [
    "import pandas as pd\n",
    "import sklearn.metrics as metrics\n",
    "import warnings\n",
    "warnings.filterwarnings('ignore')\n",
    "\n",
    "prediction = model.predict(x_test_40)\n",
    "\n",
    "mse = np.mean(np.power(x_test_40 - prediction, 2), axis=1)\n",
    "thresholds = []\n",
    "\n",
    "for i in range(6):\n",
    "    curr_mse = mse[0:, i:i+1]\n",
    "    curr_mse = curr_mse.reshape(x_test_40.shape[0])\n",
    "\n",
    "    error_df = pd.DataFrame({'Reconstruction_error':curr_mse,\n",
    "                        'True_class':y_test_40})\n",
    "    pre, rec, ths = metrics.precision_recall_curve(error_df['True_class'], \n",
    "                                                   error_df['Reconstruction_error'])\n",
    "    best_cnt = abs(pre-rec)\n",
    "\n",
    "    ths_fixed = ths[np.argmin(best_cnt)]\n",
    "    thresholds.append(ths_fixed)\n",
    "    \n",
    "    print(\"Threshold\",i+1,\": \", ths_fixed)\n"
   ]
  },
  {
   "cell_type": "code",
   "execution_count": 29,
   "id": "b7f59a65",
   "metadata": {},
   "outputs": [
    {
     "data": {
      "image/png": "[encoded data removed]",
      "text/plain": [
       "<Figure size 432x288 with 2 Axes>"
      ]
     },
     "metadata": {
      "needs_background": "light"
     },
     "output_type": "display_data"
    },
    {
     "data": {
      "image/png": "[encoded data removed]",
      "text/plain": [
       "<Figure size 432x288 with 2 Axes>"
      ]
     },
     "metadata": {
      "needs_background": "light"
     },
     "output_type": "display_data"
    },
    {
     "data": {
      "image/png": "[encoded data removed]",
      "text/plain": [
       "<Figure size 432x288 with 2 Axes>"
      ]
     },
     "metadata": {
      "needs_background": "light"
     },
     "output_type": "display_data"
    },
    {
     "data": {
      "image/png": "[encoded data removed]",
      "text/plain": [
       "<Figure size 432x288 with 2 Axes>"
      ]
     },
     "metadata": {
      "needs_background": "light"
     },
     "output_type": "display_data"
    },
    {
     "data": {
      "image/png": "[encoded data removed]",
      "text/plain": [
       "<Figure size 432x288 with 2 Axes>"
      ]
     },
     "metadata": {
      "needs_background": "light"
     },
     "output_type": "display_data"
    },
    {
     "data": {
      "image/png": "[encoded data removed]",
      "text/plain": [
       "<Figure size 432x288 with 2 Axes>"
      ]
     },
     "metadata": {
      "needs_background": "light"
     },
     "output_type": "display_data"
    },
    {
     "name": "stdout",
     "output_type": "stream",
     "text": [
      "Accuarcy:  0.9997020262216925\n",
      "Detection Accuracy:  0.8571428571428571\n"
     ]
    }
   ],
   "source": [
    "#accuracy\n",
    "\n",
    "import pandas as pd\n",
    "import sklearn.metrics as metrics\n",
    "import warnings\n",
    "warnings.filterwarnings('ignore')\n",
    "\n",
    "prediction = model.predict(x_test_40)\n",
    "\n",
    "mse = np.mean(np.power(x_test_40 - prediction, 2), axis=1)\n",
    "\n",
    "a = []\n",
    "da = []\n",
    "\n",
    "for i in range(6):\n",
    "    curr_mse = mse[0:, i:i+1]\n",
    "    curr_mse = curr_mse.reshape(x_test_40.shape[0])\n",
    "\n",
    "    error_df = pd.DataFrame({'Reconstruction_error':curr_mse,\n",
    "                        'True_class':y_test_40})\n",
    "    pred_y = [1 if e > thresholds[i] else 0 for e in error_df['Reconstruction_error'].values]\n",
    "    conf_matrix = metrics.confusion_matrix(error_df['True_class'], pred_y)\n",
    "    \n",
    "    accuracy = (conf_matrix[0][0]+conf_matrix[1][1])/conf_matrix.sum()\n",
    "    daccuracy = (conf_matrix[1][1])/7\n",
    "    a.append(accuracy)\n",
    "    ad.append(daccuracy)\n",
    "    \n",
    "    sns.heatmap(conf_matrix, xticklabels=['Normal', 'Break'], \n",
    "                yticklabels=['Normal', 'Break'], annot=True, fmt='d')\n",
    "    b, t = plt.ylim()\n",
    "    b += 0.5\n",
    "    t -= 0.5\n",
    "    plt.ylim(b, t)\n",
    "    plt.title('Confusion Matrix ')\n",
    "    plt.xlabel('Predixted Class')\n",
    "    plt.ylabel('True Class')\n",
    "    plt.show()\n",
    "print('Accuarcy: ', sum(a)/6)\n",
    "print('Detection Accuracy: ', sum(da)/6)\n"
   ]
  },
  {
   "cell_type": "code",
   "execution_count": 37,
   "id": "4e881659",
   "metadata": {},
   "outputs": [],
   "source": [
    "model.save(\"tensorModel_220611.h5\")"
   ]
  }
 ],
 "metadata": {
  "kernelspec": {
   "display_name": "Python 3 (ipykernel)",
   "language": "python",
   "name": "python3"
  },
  "language_info": {
   "codemirror_mode": {
    "name": "ipython",
    "version": 3
   },
   "file_extension": ".py",
   "mimetype": "text/x-python",
   "name": "python",
   "nbconvert_exporter": "python",
   "pygments_lexer": "ipython3",
   "version": "3.9.4"
  }
 },
 "nbformat": 4,
 "nbformat_minor": 5
}
